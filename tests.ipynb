{
 "cells": [
  {
   "cell_type": "code",
   "execution_count": 1,
   "metadata": {},
   "outputs": [
    {
     "name": "stdout",
     "output_type": "stream",
     "text": [
      "['Toy Story 3', 'Toy Story 2', 'Small Fry', 'The 40 Year Old Virgin', \"Andy Hardy's Blonde Trouble\"]\n"
     ]
    }
   ],
   "source": [
    "from sklearn.metrics.pairwise import cosine_similarity\n",
    "import numpy as np\n",
    "import pickle\n",
    "\n",
    "# Cargar los vectores y títulos desde el archivo binario\n",
    "with open('movie_vectors.pkl', 'rb') as f:\n",
    "    movie_vectors = pickle.load(f)\n",
    "\n",
    "titles = movie_vectors[\"titles\"]\n",
    "tfidf_matrix = movie_vectors[\"tfidf_matrix\"]\n",
    "\n",
    "def recomendacion(titulo, n_recommendations=5):\n",
    "    # Buscar el índice de la película que coincide con el título\n",
    "    try:\n",
    "        idx = np.where(titles == titulo)[0][0]\n",
    "    except IndexError:\n",
    "        return f\"La película '{titulo}' no se encuentra en el dataset.\"\n",
    "\n",
    "    # Calcular la similitud de coseno entre la película seleccionada y todas las demás\n",
    "    target_vector = tfidf_matrix[idx]\n",
    "    sim_scores = cosine_similarity(target_vector, tfidf_matrix).flatten()\n",
    "\n",
    "    # Ordenar las puntuaciones de similitud en orden descendente\n",
    "    sim_scores_indices = np.argsort(sim_scores)[::-1][1:n_recommendations+1]\n",
    "\n",
    "    # Retornar los títulos de las 5 películas más similares\n",
    "    recommended_titles = [titles[i] for i in sim_scores_indices]\n",
    "    return recommended_titles\n",
    "\n",
    "# Prueba la función con un ejemplo\n",
    "print(recomendacion(\"Toy Story\"))\n"
   ]
  },
  {
   "cell_type": "code",
   "execution_count": 2,
   "metadata": {},
   "outputs": [
    {
     "name": "stdout",
     "output_type": "stream",
     "text": [
      "['Toy Story', 'Rebel Without a Cause', \"Burt's Buzz\", 'Fry and Laurie Reunited', 'For Your Consideration']\n"
     ]
    }
   ],
   "source": [
    "print(recomendacion(\"Small Fry\"))"
   ]
  }
 ],
 "metadata": {
  "kernelspec": {
   "display_name": "Python 3",
   "language": "python",
   "name": "python3"
  },
  "language_info": {
   "codemirror_mode": {
    "name": "ipython",
    "version": 3
   },
   "file_extension": ".py",
   "mimetype": "text/x-python",
   "name": "python",
   "nbconvert_exporter": "python",
   "pygments_lexer": "ipython3",
   "version": "3.13.0"
  }
 },
 "nbformat": 4,
 "nbformat_minor": 2
}
