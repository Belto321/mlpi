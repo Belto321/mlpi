{
 "cells": [
  {
   "cell_type": "code",
   "execution_count": 1,
   "metadata": {},
   "outputs": [
    {
     "name": "stdout",
     "output_type": "stream",
     "text": [
      "['Toy Story 3', 'Toy Story 2', 'Small Fry', 'The 40 Year Old Virgin', \"Andy Hardy's Blonde Trouble\"]\n"
     ]
    }
   ],
   "source": [
    "from sklearn.metrics.pairwise import cosine_similarity\n",
    "import numpy as np\n",
    "import pickle\n",
    "\n",
    "# Cargar los vectores y títulos desde el archivo binario\n",
    "with open('movie_vectors.pkl', 'rb') as f:\n",
    "    movie_vectors = pickle.load(f)\n",
    "\n",
    "titles = movie_vectors[\"titles\"]\n",
    "tfidf_matrix = movie_vectors[\"tfidf_matrix\"]\n",
    "\n",
    "def recomendacion(titulo, n_recommendations=5):\n",
    "    # Buscar el índice de la película que coincide con el título\n",
    "    try:\n",
    "        idx = np.where(titles == titulo)[0][0]\n",
    "    except IndexError:\n",
    "        return f\"La película '{titulo}' no se encuentra en el dataset.\"\n",
    "\n",
    "    # Calcular la similitud de coseno entre la película seleccionada y todas las demás\n",
    "    target_vector = tfidf_matrix[idx]\n",
    "    sim_scores = cosine_similarity(target_vector, tfidf_matrix).flatten()\n",
    "\n",
    "    # Ordenar las puntuaciones de similitud en orden descendente\n",
    "    sim_scores_indices = np.argsort(sim_scores)[::-1][1:n_recommendations+1]\n",
    "\n",
    "    # Retornar los títulos de las 5 películas más similares\n",
    "    recommended_titles = [titles[i] for i in sim_scores_indices]\n",
    "    return recommended_titles\n",
    "\n",
    "# Prueba la función con un ejemplo\n",
    "print(recomendacion(\"Toy Story\"))\n"
   ]
  },
  {
   "cell_type": "code",
   "execution_count": 2,
   "metadata": {},
   "outputs": [
    {
     "name": "stdout",
     "output_type": "stream",
     "text": [
      "['Toy Story', 'Rebel Without a Cause', \"Burt's Buzz\", 'Fry and Laurie Reunited', 'For Your Consideration']\n"
     ]
    }
   ],
   "source": [
    "print(recomendacion(\"Small Fry\"))"
   ]
  },
  {
   "cell_type": "markdown",
   "metadata": {},
   "source": [
    "Lets do a bit of debuging"
   ]
  },
  {
   "cell_type": "code",
   "execution_count": 1,
   "metadata": {},
   "outputs": [
    {
     "name": "stdout",
     "output_type": "stream",
     "text": [
      "Primeras líneas del archivo movies_combined.csv:\n",
      "            belongs_to_collection      budget                      genres  \\\n",
      "0            Toy Story Collection  30000000.0   Animation, Comedy, Family   \n",
      "1                             NaN  65000000.0  Adventure, Fantasy, Family   \n",
      "2       Grumpy Old Men Collection         0.0             Romance, Comedy   \n",
      "3                             NaN  16000000.0      Comedy, Drama, Romance   \n",
      "4  Father of the Bride Collection         0.0                      Comedy   \n",
      "\n",
      "  movie_id original_language  \\\n",
      "0      862                en   \n",
      "1     8844                en   \n",
      "2    15602                en   \n",
      "3    31357                en   \n",
      "4    11862                en   \n",
      "\n",
      "                                            overview popularity  \\\n",
      "0  Led by Woody, Andy's toys live happily in his ...  21.946943   \n",
      "1  When siblings Judy and Peter discover an encha...  17.015539   \n",
      "2  A family wedding reignites the ancient feud be...    11.7129   \n",
      "3  Cheated on, mistreated and stepped on, the wom...   3.859495   \n",
      "4  Just when George Banks has recovered from his ...   8.387519   \n",
      "\n",
      "                                production_companies  \\\n",
      "0                            Pixar Animation Studios   \n",
      "1  TriStar Pictures, Teitler Film, Interscope Com...   \n",
      "2                       Warner Bros., Lancaster Gate   \n",
      "3             Twentieth Century Fox Film Corporation   \n",
      "4         Sandollar Productions, Touchstone Pictures   \n",
      "\n",
      "                                production_countries release_date  ...  \\\n",
      "0  [{'iso_3166_1': 'US', 'name': 'United States o...   1995-10-30  ...   \n",
      "1  [{'iso_3166_1': 'US', 'name': 'United States o...   1995-12-15  ...   \n",
      "2  [{'iso_3166_1': 'US', 'name': 'United States o...   1995-12-22  ...   \n",
      "3  [{'iso_3166_1': 'US', 'name': 'United States o...   1995-12-22  ...   \n",
      "4  [{'iso_3166_1': 'US', 'name': 'United States o...   1995-02-10  ...   \n",
      "\n",
      "    spoken_languages    status  \\\n",
      "0            English  Released   \n",
      "1  English, Français  Released   \n",
      "2            English  Released   \n",
      "3            English  Released   \n",
      "4            English  Released   \n",
      "\n",
      "                                             tagline  \\\n",
      "0                                                NaN   \n",
      "1          Roll the dice and unleash the excitement!   \n",
      "2  Still Yelling. Still Fighting. Still Ready for...   \n",
      "3  Friends are the people who let you be yourself...   \n",
      "4  Just When His World Is Back To Normal... He's ...   \n",
      "\n",
      "                         title vote_average vote_count  release_year  \\\n",
      "0                    Toy Story          7.7     5415.0        1995.0   \n",
      "1                      Jumanji          6.9     2413.0        1995.0   \n",
      "2             Grumpier Old Men          6.5       92.0        1995.0   \n",
      "3            Waiting to Exhale          6.1       34.0        1995.0   \n",
      "4  Father of the Bride Part II          5.7      173.0        1995.0   \n",
      "\n",
      "      return                                               cast  \\\n",
      "0  12.451801                                                NaN   \n",
      "1   4.043035                                                NaN   \n",
      "2   0.000000  Walter Matthau, Jack Lemmon, Ann-Margret, Soph...   \n",
      "3   5.090760                                                NaN   \n",
      "4   0.000000  Steve Martin, Diane Keaton, Martin Short, Kimb...   \n",
      "\n",
      "                                                crew  \n",
      "0                                                NaN  \n",
      "1                                                NaN  \n",
      "2  Walter Matthau, Jack Lemmon, Ann-Margret, Soph...  \n",
      "3                                                NaN  \n",
      "4  Steve Martin, Diane Keaton, Martin Short, Kimb...  \n",
      "\n",
      "[5 rows x 22 columns]\n"
     ]
    },
    {
     "name": "stderr",
     "output_type": "stream",
     "text": [
      "C:\\Users\\User\\AppData\\Local\\Temp\\ipykernel_19216\\997875773.py:4: DtypeWarning: Columns (6) have mixed types. Specify dtype option on import or set low_memory=False.\n",
      "  df_movies = pd.read_csv('app/movies_combined.csv')\n"
     ]
    }
   ],
   "source": [
    "import pandas as pd\n",
    "\n",
    "# Leer las primeras líneas del archivo CSV\n",
    "df_movies = pd.read_csv('app/movies_combined.csv')\n",
    "print(\"Primeras líneas del archivo movies_combined.csv:\")\n",
    "print(df_movies.head())\n"
   ]
  },
  {
   "cell_type": "code",
   "execution_count": 2,
   "metadata": {},
   "outputs": [
    {
     "name": "stdout",
     "output_type": "stream",
     "text": [
      "\n",
      "Columnas del DataFrame:\n",
      "['belongs_to_collection', 'budget', 'genres', 'movie_id', 'original_language', 'overview', 'popularity', 'production_companies', 'production_countries', 'release_date', 'revenue', 'runtime', 'spoken_languages', 'status', 'tagline', 'title', 'vote_average', 'vote_count', 'release_year', 'return', 'cast', 'crew']\n"
     ]
    }
   ],
   "source": [
    "print(\"\\nColumnas del DataFrame:\")\n",
    "print(df_movies.columns.tolist())\n"
   ]
  },
  {
   "cell_type": "code",
   "execution_count": 4,
   "metadata": {},
   "outputs": [
    {
     "name": "stdout",
     "output_type": "stream",
     "text": [
      "\n",
      "Primeras fechas de lanzamiento:\n",
      "0    1995-10-30\n",
      "1    1995-12-15\n",
      "2    1995-12-22\n",
      "3    1995-12-22\n",
      "4    1995-02-10\n",
      "Name: release_date, dtype: object\n",
      "\n",
      "Tipo de la columna 'release_date':\n",
      "object\n"
     ]
    }
   ],
   "source": [
    "print(\"\\nPrimeras fechas de lanzamiento:\")\n",
    "print(df_movies['release_date'].head())\n",
    "print(\"\\nTipo de la columna 'release_date':\")\n",
    "print(df_movies['release_date'].dtype)\n"
   ]
  },
  {
   "cell_type": "code",
   "execution_count": 5,
   "metadata": {},
   "outputs": [
    {
     "name": "stdout",
     "output_type": "stream",
     "text": [
      "\n",
      "Fechas de lanzamiento después de la conversión:\n",
      "0   1995-10-30\n",
      "1   1995-12-15\n",
      "2   1995-12-22\n",
      "3   1995-12-22\n",
      "4   1995-02-10\n",
      "Name: release_date, dtype: datetime64[ns]\n",
      "\n",
      "Nuevo tipo de la columna 'release_date':\n",
      "datetime64[ns]\n"
     ]
    }
   ],
   "source": [
    "# Convertir la columna release_date a datetime\n",
    "df_movies['release_date'] = pd.to_datetime(df_movies['release_date'])\n",
    "\n",
    "print(\"\\nFechas de lanzamiento después de la conversión:\")\n",
    "print(df_movies['release_date'].head())\n",
    "print(\"\\nNuevo tipo de la columna 'release_date':\")\n",
    "print(df_movies['release_date'].dtype)\n"
   ]
  },
  {
   "cell_type": "code",
   "execution_count": 6,
   "metadata": {},
   "outputs": [
    {
     "data": {
      "text/plain": [
       "0    1995.0\n",
       "1    1995.0\n",
       "2    1995.0\n",
       "3    1995.0\n",
       "4    1995.0\n",
       "Name: release_year, dtype: float64"
      ]
     },
     "execution_count": 6,
     "metadata": {},
     "output_type": "execute_result"
    }
   ],
   "source": [
    "df_movies['release_year'].head()"
   ]
  },
  {
   "cell_type": "code",
   "execution_count": 10,
   "metadata": {},
   "outputs": [
    {
     "name": "stdout",
     "output_type": "stream",
     "text": [
      "\n",
      "Tipo de la columna 'release_year' después de la conversión:\n",
      "Int64\n",
      "\n",
      "Primeros valores de release_year:\n",
      "0    1995\n",
      "1    1995\n",
      "2    1995\n",
      "3    1995\n",
      "4    1995\n",
      "Name: release_year, dtype: Int64\n"
     ]
    }
   ],
   "source": [
    "# Convertir release_year a entero\n",
    "df_movies['release_year'] = df_movies['release_year'].fillna(df_movies['release_year']).astype('Int64')\n",
    "\n",
    "print(\"\\nTipo de la columna 'release_year' después de la conversión:\")\n",
    "print(df_movies['release_year'].dtype)\n",
    "print(\"\\nPrimeros valores de release_year:\")\n",
    "print(df_movies['release_year'].head())\n"
   ]
  },
  {
   "cell_type": "code",
   "execution_count": 11,
   "metadata": {},
   "outputs": [],
   "source": [
    "# Guardar los cambios en el archivo CSV\n",
    "df_movies.to_csv('app/movies_combined.csv', index=False)"
   ]
  },
  {
   "cell_type": "code",
   "execution_count": 12,
   "metadata": {},
   "outputs": [
    {
     "name": "stdout",
     "output_type": "stream",
     "text": [
      "\n",
      "Primeras fechas de lanzamiento:\n",
      "0    1995-10-30\n",
      "1    1995-12-15\n",
      "2    1995-12-22\n",
      "3    1995-12-22\n",
      "4    1995-02-10\n",
      "Name: release_date, dtype: object\n",
      "\n",
      "Tipo de la columna 'release_date':\n",
      "object\n"
     ]
    },
    {
     "name": "stderr",
     "output_type": "stream",
     "text": [
      "C:\\Users\\User\\AppData\\Local\\Temp\\ipykernel_19216\\1718780630.py:1: DtypeWarning: Columns (6) have mixed types. Specify dtype option on import or set low_memory=False.\n",
      "  df_movies = pd.read_csv('app/movies_combined.csv')\n"
     ]
    }
   ],
   "source": [
    "df_movies = pd.read_csv('app/movies_combined.csv')\n",
    "\n",
    "print(\"\\nPrimeras fechas de lanzamiento:\")\n",
    "print(df_movies['release_date'].head())\n",
    "print(\"\\nTipo de la columna 'release_date':\")\n",
    "print(df_movies['release_date'].dtype)\n"
   ]
  }
 ],
 "metadata": {
  "kernelspec": {
   "display_name": "Python 3",
   "language": "python",
   "name": "python3"
  },
  "language_info": {
   "codemirror_mode": {
    "name": "ipython",
    "version": 3
   },
   "file_extension": ".py",
   "mimetype": "text/x-python",
   "name": "python",
   "nbconvert_exporter": "python",
   "pygments_lexer": "ipython3",
   "version": "3.13.0"
  }
 },
 "nbformat": 4,
 "nbformat_minor": 2
}
